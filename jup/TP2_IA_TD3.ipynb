{
 "cells": [
  {
   "cell_type": "code",
   "execution_count": 17,
   "metadata": {},
   "outputs": [
    {
     "name": "stdout",
     "output_type": "stream",
     "text": [
      "False\n",
      "1.0\n"
     ]
    }
   ],
   "source": [
    "def initial():\n",
    "    return [1,1,0,1,1,0] #1 : vers le haut, 0 : vers le bas\n",
    "\n",
    "def final(etat):\n",
    "    return etat == [1,1,1,1,1,1]\n",
    "    \n",
    "print(final(initial()))\n",
    "\n",
    "def heuristique(etat):\n",
    "    return etat.count(0)/2\n",
    "\n",
    "print(heuristique(initial()))"
   ]
  },
  {
   "cell_type": "code",
   "execution_count": 19,
   "metadata": {},
   "outputs": [
    {
     "name": "stdout",
     "output_type": "stream",
     "text": [
      "[([0, 0, 0, 1, 1, 0], 1), ([1, 0, 1, 1, 1, 0], 1), ([1, 1, 1, 0, 1, 0], 1), ([1, 1, 0, 0, 0, 0], 1), ([1, 1, 0, 1, 0, 1], 1)]\n"
     ]
    }
   ],
   "source": [
    "def actionsPossible():\n",
    "    return [tourner]\n",
    "\n",
    "def tourner(etat):\n",
    "    listSuiv = []\n",
    "    for i in range(0,len(etat)-1):\n",
    "        etat2 = list(etat)\n",
    "        etat2[i] = (etat2[i] + 1) % 2\n",
    "        etat2[i+1] = (etat2[i+1] + 1) % 2\n",
    "        listSuiv.append((etat2,1))#(etat,cout)\n",
    "    \n",
    "    return listSuiv\n",
    "\n",
    "print(tourner(initial()))\n",
    "        \n",
    "    "
   ]
  },
  {
   "cell_type": "code",
   "execution_count": 55,
   "metadata": {},
   "outputs": [
    {
     "name": "stdout",
     "output_type": "stream",
     "text": [
      "Solution :\n",
      "[1, 1, 0, 1, 1, 0]\n",
      "Longueur : 1\n",
      "cout : 0\n",
      "heuristique : 1.0\n"
     ]
    }
   ],
   "source": [
    "def afficher_sol(noeud):\n",
    "    print(\"Solution :\")\n",
    "    chemin = getChemin(noeud)\n",
    "    cout = getG(noeud)\n",
    "    h = getH(noeud)\n",
    "    for i in chemin:\n",
    "        print(getEtat(i))\n",
    "    print(str(getEtat(noeud)))\n",
    "    print(\"Longueur : \"+str(len(chemin)+1))\n",
    "    print(\"cout : \"+str(cout))\n",
    "    print(\"heuristique : \"+str(h))\n",
    "    \n",
    "\n",
    "    \n",
    "def getH(noeud):\n",
    "    return noeud[3]\n",
    "\n",
    "def getG(noeud):\n",
    "    return noeud[2]\n",
    "    \n",
    "def getChemin(noeud):\n",
    "    return noeud[1]\n",
    "\n",
    "def getEtat(noeud):\n",
    "    return noeud[0]\n",
    "\n",
    "def dejavu(etat,chemin):\n",
    "    for noeud in chemin:\n",
    "        if etat == getEtat(noeud):\n",
    "            return True\n",
    "    return False   \n",
    "\n",
    "def noeudsFils(noeud):\n",
    "    listeFils = []\n",
    "    etatCourant = getEtat(noeud)\n",
    "    cheminCourant = getChemin(noeud)\n",
    "        \n",
    "    for action in actionsPossible():\n",
    "        listEtatSuiv = action(etatCourant)\n",
    "        for etat in listEtatSuiv:\n",
    "            if not dejavu(etat,cheminCourant):\n",
    "                chemin=list(cheminCourant)\n",
    "                g = getG(noeud)+etat[1]\n",
    "                h = heuristique(etat[0])\n",
    "                chemin.append(noeud)\n",
    "                listeFils.append((etat[0],chemin,g,h))\n",
    "    \n",
    "    return listeFils\n",
    "\n",
    "afficher_sol((initial(),[],0,heuristique(initial())))"
   ]
  },
  {
   "cell_type": "code",
   "execution_count": 56,
   "metadata": {},
   "outputs": [
    {
     "name": "stdout",
     "output_type": "stream",
     "text": [
      "Solution :\n",
      "[1, 1, 0, 1, 1, 0]\n",
      "[1, 1, 1, 0, 1, 0]\n",
      "[1, 1, 1, 0, 0, 1]\n",
      "[1, 1, 1, 1, 1, 1]\n",
      "Longueur : 4\n",
      "cout : 3\n",
      "heuristique : 0.0\n"
     ]
    }
   ],
   "source": [
    "#list l des elts (e0,e1,e2,e3,e4)\n",
    "#l.sort(key=lambda e:e[3], reverse =True/False) --> tri la liste\n",
    "\n",
    "def solve():\n",
    "    etatInit = (initial())\n",
    "    noeudInit = (etatInit,[],0,heuristique(etatInit))\n",
    "    aStar([noeudInit])\n",
    "\n",
    "def aStar(listAtt):\n",
    "    while listAtt:\n",
    "        noeud = listAtt.pop()\n",
    "        if final(getEtat(noeud)):\n",
    "            afficher_sol(noeud)\n",
    "            return True\n",
    "        else:\n",
    "            listSuiv = noeudsFils(noeud)\n",
    "            listAtt.extend(listSuiv)\n",
    "            listAtt.sort(key=lambda e:e[2]+e[3], reverse=True)\n",
    "    return False\n",
    "    \n",
    "solve()"
   ]
  }
 ],
 "metadata": {
  "kernelspec": {
   "display_name": "Python 3",
   "language": "python",
   "name": "python3"
  },
  "language_info": {
   "codemirror_mode": {
    "name": "ipython",
    "version": 3
   },
   "file_extension": ".py",
   "mimetype": "text/x-python",
   "name": "python",
   "nbconvert_exporter": "python",
   "pygments_lexer": "ipython3",
   "version": "3.7.2"
  }
 },
 "nbformat": 4,
 "nbformat_minor": 2
}
