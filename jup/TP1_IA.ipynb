{
 "cells": [
  {
   "cell_type": "code",
   "execution_count": 75,
   "metadata": {},
   "outputs": [
    {
     "name": "stdout",
     "output_type": "stream",
     "text": [
      "False\n"
     ]
    }
   ],
   "source": [
    "def initial():\n",
    "    return(3,3,\"g\")\n",
    "\n",
    "def final(etat):\n",
    "    if etat == (0,0,\"d\"):\n",
    "        return True\n",
    "    else:\n",
    "        return False\n",
    "    \n",
    "print(final(initial()))"
   ]
  },
  {
   "cell_type": "code",
   "execution_count": 94,
   "metadata": {},
   "outputs": [
    {
     "name": "stdout",
     "output_type": "stream",
     "text": [
      "[(3, 2, 'd'), (2, 2, 'd'), (3, 1, 'd')]\n",
      "[(3, 2, 'g'), (3, 3, 'g')]\n"
     ]
    }
   ],
   "source": [
    "def actions():\n",
    "    return[aller,retour]\n",
    "\n",
    "\n",
    "def aller(etat):\n",
    "    [m,c,pos] = etat\n",
    "    listSuiv = []\n",
    "    if(pos == \"g\"):        \n",
    "        for i in range(0,c+1):\n",
    "            for j in range(0,m+1):\n",
    "                if i+j >=1 and (i+j)<=2 and ((m-j) == 0 or (m-j) >= (c-i)) and ((3-c+i) <= (3-m+j) or (3-m+j)==0):\n",
    "                    listSuiv.append((m-j,c-i,\"d\"))\n",
    "    return listSuiv\n",
    "    \n",
    "def retour(etat):\n",
    "    [m,c,pos] = etat\n",
    "    listSuiv = []\n",
    "    if(pos == \"d\"):\n",
    "        for i in range(0,3-m+1):\n",
    "            for j in range(0,3-c+1):\n",
    "                if (3-m-i) >= 0 and (3-c-j) >= 0 and (i+j) >= 1 and (i+j)<=2 and (m+i>=c+j or m+i==0) and ((3-m)-i >= (3-c)-j or (3-m)-i == 0) :\n",
    "                    listSuiv.append((m+i,c+j,\"g\"))\n",
    "    return listSuiv\n",
    "\n",
    "print(aller((3,3,\"g\")))\n",
    "print(retour((2,2,\"d\")))"
   ]
  },
  {
   "cell_type": "code",
   "execution_count": 92,
   "metadata": {},
   "outputs": [
    {
     "name": "stdout",
     "output_type": "stream",
     "text": [
      "[(2, 3, 'g'), (3, 2, 'g'), (3, 3, 'g')]\n"
     ]
    }
   ],
   "source": [
    "def etatValide(etat):   \n",
    "    [m,c,pos] = etat\n",
    "    etatsV = []\n",
    "    if pos == \"g\":\n",
    "        etatsV = aller(etat)\n",
    "    else:\n",
    "        etatsV = retour(etat)\n",
    "    return etatsV\n",
    "\n",
    "print(etatValide((2,2,\"d\")))"
   ]
  },
  {
   "cell_type": "code",
   "execution_count": 78,
   "metadata": {},
   "outputs": [
    {
     "name": "stdout",
     "output_type": "stream",
     "text": [
      "Solution :\n",
      "(3, 3, 'g')\n",
      "Longueur : 1\n"
     ]
    }
   ],
   "source": [
    "def afficher_sol(noeud):\n",
    "    print(\"Solution :\")\n",
    "    chemin = getChemin(noeud)\n",
    "    for i in chemin:\n",
    "        print(getEtat(i))\n",
    "    print(getEtat(noeud))\n",
    "    print(\"Longueur : \"+str(len(chemin)+1))\n",
    "    \n",
    "    \n",
    "def getChemin(noeud):\n",
    "    return noeud[1]\n",
    "\n",
    "def getEtat(noeud):\n",
    "    return noeud[0]\n",
    "\n",
    "def dejavu(etat,chemin):\n",
    "    for noeud in chemin:\n",
    "        if etat == getEtat(noeud):\n",
    "            return True\n",
    "    return False\n",
    "\n",
    "afficher_sol(((3,3,\"g\"),[]))"
   ]
  },
  {
   "cell_type": "code",
   "execution_count": 89,
   "metadata": {},
   "outputs": [
    {
     "data": {
      "text/plain": [
       "[((3, 3, 'g'), [((3, 2, 'd'), [])])]"
      ]
     },
     "execution_count": 89,
     "metadata": {},
     "output_type": "execute_result"
    }
   ],
   "source": [
    "def noeudsFils(noeud):\n",
    "    listeFils = []\n",
    "    etatCourant = getEtat(noeud)\n",
    "    cheminCourant = getChemin(noeud)\n",
    "        \n",
    "    for action in actions():\n",
    "        listEtatSuiv = action(etatCourant)\n",
    "        for etat in listEtatSuiv:\n",
    "            if not dejavu(etat,cheminCourant):\n",
    "                chemin=list(cheminCourant)\n",
    "                chemin.append(noeud)\n",
    "                listeFils.append((etat,chemin))\n",
    "    \n",
    "    return listeFils\n",
    "\n",
    "noeudsFils(((3,2,\"d\"),[]))"
   ]
  },
  {
   "cell_type": "code",
   "execution_count": 102,
   "metadata": {},
   "outputs": [
    {
     "name": "stdout",
     "output_type": "stream",
     "text": [
      "Solution :\n",
      "(3, 3, 'g')\n",
      "(2, 2, 'd')\n",
      "(3, 2, 'g')\n",
      "(3, 0, 'd')\n",
      "(3, 1, 'g')\n",
      "(1, 1, 'd')\n",
      "(2, 2, 'g')\n",
      "(0, 2, 'd')\n",
      "(0, 3, 'g')\n",
      "(0, 1, 'd')\n",
      "(0, 2, 'g')\n",
      "(0, 0, 'd')\n",
      "Longueur : 12\n"
     ]
    },
    {
     "data": {
      "text/plain": [
       "True"
      ]
     },
     "execution_count": 102,
     "metadata": {},
     "output_type": "execute_result"
    }
   ],
   "source": [
    "def rp(noeud):\n",
    "    etatCourant = getEtat(noeud)\n",
    "    if final(etatCourant):\n",
    "        afficher_sol(noeud)\n",
    "        return True\n",
    "    \n",
    "    listSuiv = noeudsFils(noeud)\n",
    "    \n",
    "    for suiv in listSuiv:\n",
    "        if rp(suiv):\n",
    "            return True\n",
    "    return False\n",
    "\n",
    "rp((initial(),[]))"
   ]
  },
  {
   "cell_type": "code",
   "execution_count": 101,
   "metadata": {},
   "outputs": [
    {
     "name": "stdout",
     "output_type": "stream",
     "text": [
      "Solution :\n",
      "(3, 3, 'g')\n",
      "(2, 2, 'd')\n",
      "(3, 2, 'g')\n",
      "(3, 0, 'd')\n",
      "(3, 1, 'g')\n",
      "(1, 1, 'd')\n",
      "(2, 2, 'g')\n",
      "(0, 2, 'd')\n",
      "(0, 3, 'g')\n",
      "(0, 1, 'd')\n",
      "(0, 2, 'g')\n",
      "(0, 0, 'd')\n",
      "Longueur : 12\n",
      "True\n",
      "Solution :\n",
      "(3, 3, 'g')\n",
      "(3, 1, 'd')\n",
      "(3, 2, 'g')\n",
      "(3, 0, 'd')\n",
      "(3, 1, 'g')\n",
      "(1, 1, 'd')\n",
      "(2, 2, 'g')\n",
      "(0, 2, 'd')\n",
      "(0, 3, 'g')\n",
      "(0, 1, 'd')\n",
      "(1, 1, 'g')\n",
      "(0, 0, 'd')\n",
      "Longueur : 12\n",
      "True\n"
     ]
    }
   ],
   "source": [
    "def rp_it(listAtt):\n",
    "    while listAtt:\n",
    "        noeud = listAtt.pop()\n",
    "        if final(getEtat(noeud)):\n",
    "            afficher_sol(noeud)\n",
    "            return True\n",
    "        else:\n",
    "            listSuiv = noeudsFils(noeud)\n",
    "            listAtt.extend(listSuiv)\n",
    "    return False\n",
    "\n",
    "\n",
    "init = (initial(),[])\n",
    "print(rp(init))\n",
    "print(rp_it([init]))\n",
    "#deque(laList) : list as queue"
   ]
  }
 ],
 "metadata": {
  "kernelspec": {
   "display_name": "Python 3",
   "language": "python",
   "name": "python3"
  },
  "language_info": {
   "codemirror_mode": {
    "name": "ipython",
    "version": 3
   },
   "file_extension": ".py",
   "mimetype": "text/x-python",
   "name": "python",
   "nbconvert_exporter": "python",
   "pygments_lexer": "ipython3",
   "version": "3.7.2"
  }
 },
 "nbformat": 4,
 "nbformat_minor": 2
}
